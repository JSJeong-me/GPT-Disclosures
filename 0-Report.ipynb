{
  "nbformat": 4,
  "nbformat_minor": 0,
  "metadata": {
    "colab": {
      "provenance": [],
      "authorship_tag": "ABX9TyNT+HSqU7t9eCNycy2MPlvB",
      "include_colab_link": true
    },
    "kernelspec": {
      "name": "python3",
      "display_name": "Python 3"
    },
    "language_info": {
      "name": "python"
    }
  },
  "cells": [
    {
      "cell_type": "markdown",
      "metadata": {
        "id": "view-in-github",
        "colab_type": "text"
      },
      "source": [
        "<a href=\"https://colab.research.google.com/github/JSJeong-me/GPT-Disclosures/blob/main/0-Report.ipynb\" target=\"_parent\"><img src=\"https://colab.research.google.com/assets/colab-badge.svg\" alt=\"Open In Colab\"/></a>"
      ]
    },
    {
      "cell_type": "code",
      "source": [
        "from fpdf import FPDF\n",
        "\n",
        "# Create instance of FPDF class with 'Arial' font with Unicode support\n",
        "pdf = FPDF()\n",
        "pdf.add_page()\n",
        "\n",
        "# Add a Unicode font (DejaVu supports a wide range of characters)\n",
        "pdf.add_font('DejaVu', '', '/usr/share/fonts/truetype/dejavu/DejaVuSans.ttf', uni=True)\n",
        "pdf.set_font('DejaVu', '', 14)\n",
        "\n",
        "# Title\n",
        "pdf.cell(200, 10, txt=\"가상자산 거래 및 보유 내역서\", ln=True, align='C')\n",
        "\n",
        "# Section 1: Transaction History\n",
        "pdf.cell(200, 10, txt=\"1. 거래 내역\", ln=True, align='L')\n",
        "transactions = \"\"\"\n",
        "거래 일자 | 거래 유형 | 가상자산 명칭 | 거래 수량 | 거래 가격 | 거래 후 보유 수량 | 거래 수수료 | 비고\n",
        "2023-05-01 | 매수 | 비트코인 | 0.5 | 30,000 USD | 0.5 | 50 USD | 초기 투자\n",
        "2023-05-15 | 매도 | 비트코인 | 0.3 | 35,000 USD | 0.2 | 30 USD | 이익 실현\n",
        "2023-06-01 | 매수 | 이더리움 | 2.0 | 1,500 USD | 2.0 | 20 USD | 다변화 투자\n",
        "2023-06-20 | 매도 | 이더리움 | 1.0 | 2,000 USD | 1.0 | 15 USD | 가격 상승 이익 실현\n",
        "2023-07-05 | 매수 | 라이트코인 | 10.0 | 50 USD | 10.0 | 10 USD | 저가 매수\n",
        "\"\"\"\n",
        "pdf.multi_cell(0, 10, transactions)\n",
        "\n",
        "# Section 2: Holdings\n",
        "pdf.cell(200, 10, txt=\"2. 보유 현황\", ln=True, align='L')\n",
        "holdings = \"\"\"\n",
        "가상자산 명칭 | 보유 수량 | 평균 매입 가격 | 현재 시장 가격 | 보유 금액 (현재 가치)\n",
        "비트코인 | 0.2 | 30,000 USD | 32,000 USD | 6,400 USD\n",
        "이더리움 | 1.0 | 1,500 USD | 2,200 USD | 2,200 USD\n",
        "라이트코인 | 10.0 | 50 USD | 60 USD | 600 USD\n",
        "\"\"\"\n",
        "pdf.multi_cell(0, 10, holdings)\n",
        "\n",
        "# Section 3: Summary and Analysis\n",
        "pdf.cell(200, 10, txt=\"3. 요약 및 분석\", ln=True, align='L')\n",
        "summary = \"\"\"\n",
        "총 매입 금액: 32,500 USD\n",
        "총 매도 금액: 21,500 USD\n",
        "실현 이익: 3,350 USD\n",
        "미실현 이익: 1,300 USD\n",
        "세금 부담 예측: 세금 계산을 위한 추가 정보 필요\n",
        "\"\"\"\n",
        "pdf.multi_cell(0, 10, summary)\n",
        "\n",
        "# Save the PDF to a file\n",
        "pdf_file_path = \"/content/Virtual_Assets_Transaction_Report.pdf\"\n",
        "pdf.output(pdf_file_path)\n",
        "\n",
        "pdf_file_path\n"
      ],
      "metadata": {
        "id": "k6AMuidsAQyC"
      },
      "execution_count": null,
      "outputs": []
    }
  ]
}
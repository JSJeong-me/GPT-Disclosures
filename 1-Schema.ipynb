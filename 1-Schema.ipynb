{
  "cells": [
    {
      "cell_type": "markdown",
      "metadata": {
        "id": "view-in-github",
        "colab_type": "text"
      },
      "source": [
        "<a href=\"https://colab.research.google.com/github/JSJeong-me/GPT-Disclosures/blob/main/1-Schema.ipynb\" target=\"_parent\"><img src=\"https://colab.research.google.com/assets/colab-badge.svg\" alt=\"Open In Colab\"/></a>"
      ]
    },
    {
      "cell_type": "markdown",
      "id": "b97ddf3b-d921-4169-9d82-b0ee95e9eccd",
      "metadata": {
        "id": "b97ddf3b-d921-4169-9d82-b0ee95e9eccd"
      },
      "source": [
        "# Iterative Prompt Development\n",
        "In this lesson, you'll iteratively analyze and refine your prompts to generate marketing copy from a product fact sheet.\n",
        "\n",
        "## Setup"
      ]
    },
    {
      "cell_type": "code",
      "source": [
        "!pip install openai==0.28\n",
        "!pip install python-dotenv"
      ],
      "metadata": {
        "id": "xN2ZuVEY0OS8"
      },
      "id": "xN2ZuVEY0OS8",
      "execution_count": null,
      "outputs": []
    },
    {
      "cell_type": "code",
      "execution_count": 8,
      "id": "2800e646",
      "metadata": {
        "height": 132,
        "tags": [],
        "id": "2800e646"
      },
      "outputs": [],
      "source": [
        "import openai\n",
        "import os\n",
        "\n",
        "from dotenv import load_dotenv, find_dotenv\n",
        "_ = load_dotenv(find_dotenv()) # read local .env file\n",
        "\n",
        "openai.api_key  = os.getenv('OPENAI_API_KEY')"
      ]
    },
    {
      "cell_type": "code",
      "source": [
        "import openai\n",
        "openai.api_key = \"\""
      ],
      "metadata": {
        "id": "aw9k760C3JfU"
      },
      "id": "aw9k760C3JfU",
      "execution_count": 12,
      "outputs": []
    },
    {
      "cell_type": "code",
      "execution_count": 13,
      "id": "9fb6f2de",
      "metadata": {
        "height": 168,
        "tags": [],
        "id": "9fb6f2de"
      },
      "outputs": [],
      "source": [
        "def get_completion(prompt, model=\"gpt-3.5-turbo\"):\n",
        "    messages = [{\"role\": \"user\", \"content\": prompt}]\n",
        "    response = openai.ChatCompletion.create(\n",
        "        model=model,\n",
        "        messages=messages,\n",
        "        temperature=0, # this is the degree of randomness of the model's output\n",
        "    )\n",
        "    return response.choices[0].message[\"content\"]"
      ]
    },
    {
      "cell_type": "markdown",
      "id": "ffc2b32f-73da-4ef0-81f6-0c7bff70783d",
      "metadata": {
        "id": "ffc2b32f-73da-4ef0-81f6-0c7bff70783d"
      },
      "source": [
        "**Note**: In June 2023, OpenAI updated gpt-3.5-turbo. The results you see in the notebook may be slightly different than those in the video. Some of the prompts have also been slightly modified to product the desired results."
      ]
    },
    {
      "cell_type": "markdown",
      "id": "71d1a1df-03c3-4f38-af6d-3962362f3dcd",
      "metadata": {
        "id": "71d1a1df-03c3-4f38-af6d-3962362f3dcd"
      },
      "source": [
        "## Generate a transcation description from a record sheet"
      ]
    },
    {
      "cell_type": "code",
      "source": [
        "fact_sheet_chair = \"\"\"\n",
        "1. 거래 내역\n",
        "거래 일자 | 거래 유형 | 가상자산 명칭 | 거래 수량 | 거래 가격 | 거래 후 보유 수량 | 거래\n",
        "수수료 | 비고\n",
        "2023-05-01 | 매수 | 비트코인 | 0.5 | 30,000 USD | 0.5 | 50 USD | 초기 투자\n",
        "2023-05-15 | 매도 | 비트코인 | 0.3 | 35,000 USD | 0.2 | 30 USD | 이익 실현\n",
        "2023-06-01 | 매수 | 이더리움 | 2.0 | 1,500 USD | 2.0 | 20 USD | 다변화 투자\n",
        "2023-06-20 | 매도 | 이더리움 | 1.0 | 2,000 USD | 1.0 | 15 USD | 가격 상승 이익 실현\n",
        "2023-07-05 | 매수 | 라이트코인 | 10.0 | 50 USD | 10.0 | 10 USD | 저가 매수\n",
        "2. 보유 현황\n",
        "가상자산 명칭 | 보유 수량 | 평균 매입 가격 | 현재 시장 가격 | 보유 금액 (현재 가치)\n",
        "비트코인 | 0.2 | 30,000 USD | 32,000 USD | 6,400 USD\n",
        "이더리움 | 1.0 | 1,500 USD | 2,200 USD | 2,200 USD\n",
        "라이트코인 | 10.0 | 50 USD | 60 USD | 600 USD\n",
        "3. 요약 및 분석\n",
        "총 매입 금액: 32,500 USD\n",
        "총 매도 금액: 21,500 USD\n",
        "실현 이익: 3,350 USD\n",
        "미실현 이익: 1,300 USD\n",
        "세금 부담 예측: 세금 계산을 위한 추가 정보 필요\n",
        "\"\"\""
      ],
      "metadata": {
        "id": "TwSx1s7803IT"
      },
      "id": "TwSx1s7803IT",
      "execution_count": 14,
      "outputs": []
    },
    {
      "cell_type": "code",
      "execution_count": null,
      "id": "4f656d0c",
      "metadata": {
        "height": 251,
        "tags": [],
        "id": "4f656d0c"
      },
      "outputs": [],
      "source": [
        "prompt = f\"\"\"\n",
        "Your task is to Extract specific sections titled \"거래 내역\" and \"보유 현황\"\n",
        "from an attached text ```{fact_sheet_chair}``` .\n",
        "The information required includes all detailed transactions under \"거래 내역\"\n",
        "which encompasses purchase dates, types of transactions,\n",
        "names of virtual assets, quantities, prices, and post-transaction holdings.\n",
        "Additionally, extract the current status of holdings under \"보유 현황\",\n",
        "including the name of each virtual asset, the quantity held, the average purchase price,\n",
        "the current market price, and the total value of holdings.\n",
        "Provide the data in a structured format for easy review.\n",
        "\n",
        "Write a tracsaction on the information\n",
        "provided in the technical specifications delimited by\n",
        "triple backticks.\n",
        "\n",
        "Your name is '고양이'. You must answer in Korean.\n",
        "\n",
        "Format everything as HTML that can be used in a website.\n",
        "Place the description in a <div> element.\n",
        "\n",
        "Transction Records specifications: ```{fact_sheet_chair}```\n",
        "\"\"\"\n",
        "response = get_completion(prompt)\n",
        "print(response)\n"
      ]
    },
    {
      "cell_type": "code",
      "source": [
        "from IPython.core.display import display, HTML\n",
        "# HTML을 화면에 표시\n",
        "display(HTML(response))"
      ],
      "metadata": {
        "colab": {
          "base_uri": "https://localhost:8080/",
          "height": 359
        },
        "id": "_i-ItfIS3fqt",
        "outputId": "dfeaaf49-bc08-494f-c48b-84d3ae4afd0a"
      },
      "id": "_i-ItfIS3fqt",
      "execution_count": 16,
      "outputs": [
        {
          "output_type": "display_data",
          "data": {
            "text/plain": [
              "<IPython.core.display.HTML object>"
            ],
            "text/html": [
              "```html\n",
              "<div>\n",
              "  <h2>거래 내역</h2>\n",
              "  <table>\n",
              "    <tr>\n",
              "      <th>거래 일자</th>\n",
              "      <th>거래 유형</th>\n",
              "      <th>가상자산 명칭</th>\n",
              "      <th>거래 수량</th>\n",
              "      <th>거래 가격</th>\n",
              "      <th>거래 후 보유 수량</th>\n",
              "      <th>거래 수수료</th>\n",
              "      <th>비고</th>\n",
              "    </tr>\n",
              "    <tr>\n",
              "      <td>2023-05-01</td>\n",
              "      <td>매수</td>\n",
              "      <td>비트코인</td>\n",
              "      <td>0.5</td>\n",
              "      <td>30,000 USD</td>\n",
              "      <td>0.5</td>\n",
              "      <td>50 USD</td>\n",
              "      <td>초기 투자</td>\n",
              "    </tr>\n",
              "    <tr>\n",
              "      <td>2023-05-15</td>\n",
              "      <td>매도</td>\n",
              "      <td>비트코인</td>\n",
              "      <td>0.3</td>\n",
              "      <td>35,000 USD</td>\n",
              "      <td>0.2</td>\n",
              "      <td>30 USD</td>\n",
              "      <td>이익 실현</td>\n",
              "    </tr>\n",
              "    <tr>\n",
              "      <td>2023-06-01</td>\n",
              "      <td>매수</td>\n",
              "      <td>이더리움</td>\n",
              "      <td>2.0</td>\n",
              "      <td>1,500 USD</td>\n",
              "      <td>2.0</td>\n",
              "      <td>20 USD</td>\n",
              "      <td>다변화 투자</td>\n",
              "    </tr>\n",
              "    <tr>\n",
              "      <td>2023-06-20</td>\n",
              "      <td>매도</td>\n",
              "      <td>이더리움</td>\n",
              "      <td>1.0</td>\n",
              "      <td>2,000 USD</td>\n",
              "      <td>1.0</td>\n",
              "      <td>15 USD</td>\n",
              "      <td>가격 상승 이익 실현</td>\n",
              "    </tr>\n",
              "    <tr>\n",
              "      <td>2023-07-05</td>\n",
              "      <td>매수</td>\n",
              "      <td>라이트코인</td>\n",
              "      <td>10.0</td>\n",
              "      <td>50 USD</td>\n",
              "      <td>10.0</td>\n",
              "      <td>10 USD</td>\n",
              "      <td>저가 매수</td>\n",
              "    </tr>\n",
              "  </table>\n",
              "\n",
              "  <h2>보유 현황</h2>\n",
              "  <table>\n",
              "    <tr>\n",
              "      <th>가상자산 명칭</th>\n",
              "      <th>보유 수량</th>\n",
              "      <th>평균 매입 가격</th>\n",
              "      <th>현재 시장 가격</th>\n",
              "      <th>보유 금액 (현재 가치)</th>\n",
              "    </tr>\n",
              "    <tr>\n",
              "      <td>비트코인</td>\n",
              "      <td>0.2</td>\n",
              "      <td>30,000 USD</td>\n",
              "      <td>32,000 USD</td>\n",
              "      <td>6,400 USD</td>\n",
              "    </tr>\n",
              "    <tr>\n",
              "      <td>이더리움</td>\n",
              "      <td>1.0</td>\n",
              "      <td>1,500 USD</td>\n",
              "      <td>2,200 USD</td>\n",
              "      <td>2,200 USD</td>\n",
              "    </tr>\n",
              "    <tr>\n",
              "      <td>라이트코인</td>\n",
              "      <td>10.0</td>\n",
              "      <td>50 USD</td>\n",
              "      <td>60 USD</td>\n",
              "      <td>600 USD</td>\n",
              "    </tr>\n",
              "  </table>\n",
              "</div>\n",
              "```\n",
              "</div>"
            ]
          },
          "metadata": {}
        }
      ]
    },
    {
      "cell_type": "code",
      "source": [],
      "metadata": {
        "id": "XC-Uij5p4OZ0"
      },
      "id": "XC-Uij5p4OZ0",
      "execution_count": null,
      "outputs": []
    },
    {
      "cell_type": "code",
      "source": [],
      "metadata": {
        "id": "ueW8d3y54YU3"
      },
      "id": "ueW8d3y54YU3",
      "execution_count": null,
      "outputs": []
    },
    {
      "cell_type": "markdown",
      "id": "e1361d6f-6022-4b7a-8107-b2e2ff5efd32",
      "metadata": {
        "id": "e1361d6f-6022-4b7a-8107-b2e2ff5efd32"
      },
      "source": [
        "## Issue 1: The text is too long\n",
        "- Limit the number of words/sentences/characters."
      ]
    },
    {
      "cell_type": "code",
      "execution_count": null,
      "id": "f6129532",
      "metadata": {
        "height": 285,
        "tags": [],
        "id": "f6129532"
      },
      "outputs": [],
      "source": [
        "prompt = f\"\"\"\n",
        "Your task is to help a marketing team create a\n",
        "description for a retail website of a product based\n",
        "on a technical fact sheet.\n",
        "\n",
        "Write a product description based on the information\n",
        "provided in the technical specifications delimited by\n",
        "triple backticks.\n",
        "\n",
        "Use at most 50 words.\n",
        "\n",
        "Technical specifications: ```{fact_sheet_chair}```\n",
        "\"\"\"\n",
        "response = get_completion(prompt)\n",
        "print(response)\n"
      ]
    },
    {
      "cell_type": "code",
      "execution_count": null,
      "id": "17f658d0",
      "metadata": {
        "height": 30,
        "tags": [],
        "id": "17f658d0"
      },
      "outputs": [],
      "source": [
        "len(response.split())"
      ]
    },
    {
      "cell_type": "markdown",
      "id": "a6de9c92-857c-4d1c-8fd1-192cf47c4763",
      "metadata": {
        "id": "a6de9c92-857c-4d1c-8fd1-192cf47c4763"
      },
      "source": [
        "## Issue 2. Text focuses on the wrong details\n",
        "- Ask it to focus on the aspects that are relevant to the intended audience."
      ]
    },
    {
      "cell_type": "code",
      "execution_count": null,
      "id": "954a8a06",
      "metadata": {
        "height": 336,
        "tags": [],
        "id": "954a8a06"
      },
      "outputs": [],
      "source": [
        "prompt = f\"\"\"\n",
        "Your task is to help a marketing team create a\n",
        "description for a retail website of a product based\n",
        "on a technical fact sheet.\n",
        "\n",
        "Write a product description based on the information\n",
        "provided in the technical specifications delimited by\n",
        "triple backticks.\n",
        "\n",
        "The description is intended for furniture retailers,\n",
        "so should be technical in nature and focus on the\n",
        "materials the product is constructed from.\n",
        "\n",
        "Use at most 50 words.\n",
        "\n",
        "Technical specifications: ```{fact_sheet_chair}```\n",
        "\"\"\"\n",
        "response = get_completion(prompt)\n",
        "print(response)"
      ]
    },
    {
      "cell_type": "code",
      "execution_count": null,
      "id": "e9455d58",
      "metadata": {
        "height": 387,
        "tags": [],
        "id": "e9455d58"
      },
      "outputs": [],
      "source": [
        "prompt = f\"\"\"\n",
        "Your task is to help a marketing team create a\n",
        "description for a retail website of a product based\n",
        "on a technical fact sheet.\n",
        "\n",
        "Write a product description based on the information\n",
        "provided in the technical specifications delimited by\n",
        "triple backticks.\n",
        "\n",
        "The description is intended for furniture retailers,\n",
        "so should be technical in nature and focus on the\n",
        "materials the product is constructed from.\n",
        "\n",
        "At the end of the description, include every 7-character\n",
        "Product ID in the technical specification.\n",
        "\n",
        "Use at most 50 words.\n",
        "\n",
        "Technical specifications: ```{fact_sheet_chair}```\n",
        "\"\"\"\n",
        "response = get_completion(prompt)\n",
        "print(response)"
      ]
    },
    {
      "cell_type": "markdown",
      "id": "5be496d5-54c9-443b-8116-0b3d3d9dc560",
      "metadata": {
        "id": "5be496d5-54c9-443b-8116-0b3d3d9dc560"
      },
      "source": [
        "## Issue 3. Description needs a table of dimensions\n",
        "- Ask it to extract information and organize it in a table."
      ]
    },
    {
      "cell_type": "code",
      "execution_count": null,
      "id": "0384f1e4",
      "metadata": {
        "height": 540,
        "tags": [],
        "id": "0384f1e4"
      },
      "outputs": [],
      "source": [
        "prompt = f\"\"\"\n",
        "Your task is to help a marketing team create a\n",
        "description for a retail website of a product based\n",
        "on a technical fact sheet.\n",
        "\n",
        "Write a product description based on the information\n",
        "provided in the technical specifications delimited by\n",
        "triple backticks.\n",
        "\n",
        "The description is intended for furniture retailers,\n",
        "so should be technical in nature and focus on the\n",
        "materials the product is constructed from.\n",
        "\n",
        "At the end of the description, include every 7-character\n",
        "Product ID in the technical specification.\n",
        "\n",
        "After the description, include a table that gives the\n",
        "product's dimensions. The table should have two columns.\n",
        "In the first column include the name of the dimension.\n",
        "In the second column include the measurements in inches only.\n",
        "\n",
        "Give the table the title 'Product Dimensions'.\n",
        "\n",
        "Format everything as HTML that can be used in a website.\n",
        "Place the description in a <div> element.\n",
        "\n",
        "Technical specifications: ```{fact_sheet_chair}```\n",
        "\"\"\"\n",
        "\n",
        "response = get_completion(prompt)\n",
        "print(response)"
      ]
    },
    {
      "cell_type": "markdown",
      "id": "d681db67-6d59-40c1-a36b-4d76729a690d",
      "metadata": {
        "id": "d681db67-6d59-40c1-a36b-4d76729a690d"
      },
      "source": [
        "## Load Python libraries to view HTML"
      ]
    },
    {
      "cell_type": "code",
      "execution_count": null,
      "id": "73ff0052",
      "metadata": {
        "height": 30,
        "tags": [],
        "id": "73ff0052"
      },
      "outputs": [],
      "source": [
        "from IPython.display import display, HTML"
      ]
    },
    {
      "cell_type": "code",
      "execution_count": null,
      "id": "3465ffce",
      "metadata": {
        "height": 30,
        "tags": [],
        "id": "3465ffce"
      },
      "outputs": [],
      "source": [
        "display(HTML(response))"
      ]
    },
    {
      "cell_type": "markdown",
      "id": "8ed02a02-9e12-4f63-97bd-f52064b18666",
      "metadata": {
        "id": "8ed02a02-9e12-4f63-97bd-f52064b18666"
      },
      "source": [
        "## Try experimenting on your own!"
      ]
    },
    {
      "cell_type": "code",
      "execution_count": null,
      "id": "dbe1f850",
      "metadata": {
        "height": 30,
        "id": "dbe1f850"
      },
      "outputs": [],
      "source": []
    }
  ],
  "metadata": {
    "kernelspec": {
      "display_name": "Python 3",
      "name": "python3"
    },
    "language_info": {
      "codemirror_mode": {
        "name": "ipython",
        "version": 3
      },
      "file_extension": ".py",
      "mimetype": "text/x-python",
      "name": "python",
      "nbconvert_exporter": "python",
      "pygments_lexer": "ipython3",
      "version": "3.9.19"
    },
    "colab": {
      "provenance": [],
      "gpuType": "T4",
      "include_colab_link": true
    },
    "accelerator": "GPU"
  },
  "nbformat": 4,
  "nbformat_minor": 5
}
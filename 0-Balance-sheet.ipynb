{
  "nbformat": 4,
  "nbformat_minor": 0,
  "metadata": {
    "colab": {
      "provenance": [],
      "authorship_tag": "ABX9TyOkHzF74RLxHQt+Rtun+XiG",
      "include_colab_link": true
    },
    "kernelspec": {
      "name": "python3",
      "display_name": "Python 3"
    },
    "language_info": {
      "name": "python"
    }
  },
  "cells": [
    {
      "cell_type": "markdown",
      "metadata": {
        "id": "view-in-github",
        "colab_type": "text"
      },
      "source": [
        "<a href=\"https://colab.research.google.com/github/JSJeong-me/GPT-Disclosures/blob/main/0-Balance-sheet.ipynb\" target=\"_parent\"><img src=\"https://colab.research.google.com/assets/colab-badge.svg\" alt=\"Open In Colab\"/></a>"
      ]
    },
    {
      "cell_type": "code",
      "execution_count": null,
      "metadata": {
        "id": "MBVJvEgd94Sv"
      },
      "outputs": [],
      "source": [
        "import pandas as pd\n",
        "\n",
        "# Creating DataFrames for each section\n",
        "transactions_data = {\n",
        "    '거래 일자': ['2023-05-01', '2023-05-15', '2023-06-01', '2023-06-20', '2023-07-05'],\n",
        "    '거래 유형': ['매수', '매도', '매수', '매도', '매수'],\n",
        "    '가상자산 명칭': ['비트코인', '비트코인', '이더리움', '이더리움', '라이트코인'],\n",
        "    '거래 수량': [0.5, 0.3, 2.0, 1.0, 10.0],\n",
        "    '거래 가격': [30000, 35000, 1500, 2000, 50],\n",
        "    '거래 후 보유 수량': [0.5, 0.2, 2.0, 1.0, 10.0],\n",
        "    '거래 수수료': [50, 30, 20, 15, 10],\n",
        "    '비고': ['초기 투자', '이익 실현', '다변화 투자', '가격 상승 이익 실현', '저가 매수']\n",
        "}\n",
        "transactions_df = pd.DataFrame(transactions_data)\n",
        "\n",
        "holdings_data = {\n",
        "    '가상자산 명칭': ['비트코인', '이더리움', '라이트코인'],\n",
        "    '보유 수량': [0.2, 1.0, 10.0],\n",
        "    '평균 매입 가격': [30000, 1500, 50],\n",
        "    '현재 시장 가격': [32000, 2200, 60],\n",
        "    '보유 금액 (현재 가치)': [6400, 2200, 600]\n",
        "}\n",
        "holdings_df = pd.DataFrame(holdings_data)\n",
        "\n",
        "summary_data = {\n",
        "    '총 매입 금액': [32500],\n",
        "    '총 매도 금액': [21500],\n",
        "    '실현 이익': [3350],\n",
        "    '미실현 이익': [1300],\n",
        "    '세금 부담 예측': ['세금 계산을 위한 추가 정보 필요']\n",
        "}\n",
        "summary_df = pd.DataFrame(summary_data)\n",
        "\n",
        "# Creating an Excel file with multiple sheets\n",
        "with pd.ExcelWriter('/mnt/data/Virtual_Assets_Transactions.xlsx') as writer:\n",
        "    transactions_df.to_excel(writer, sheet_name='거래 내역', index=False)\n",
        "    holdings_df.to_excel(writer, sheet_name='보유 현황', index=False)\n",
        "    summary_df.to_excel(writer, sheet_name='요약 및 분석', index=False)\n",
        "\n",
        "'/mnt/data/Virtual_Assets_Transactions.xlsx'\n"
      ]
    }
  ]
}